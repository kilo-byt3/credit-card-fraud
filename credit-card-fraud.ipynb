{
 "cells": [
  {
   "cell_type": "code",
   "execution_count": 1,
   "id": "309521ba",
   "metadata": {
    "_cell_guid": "b1076dfc-b9ad-4769-8c92-a6c4dae69d19",
    "_uuid": "8f2839f25d086af736a60e9eeb907d3b93b6e0e5",
    "execution": {
     "iopub.execute_input": "2023-08-20T23:22:07.117878Z",
     "iopub.status.busy": "2023-08-20T23:22:07.117316Z",
     "iopub.status.idle": "2023-08-20T23:22:07.134351Z",
     "shell.execute_reply": "2023-08-20T23:22:07.133219Z"
    },
    "papermill": {
     "duration": 0.025404,
     "end_time": "2023-08-20T23:22:07.136803",
     "exception": false,
     "start_time": "2023-08-20T23:22:07.111399",
     "status": "completed"
    },
    "tags": []
   },
   "outputs": [],
   "source": [
    "# This Python 3 environment comes with many helpful analytics libraries installed\n",
    "# It is defined by the kaggle/python Docker image: https://github.com/kaggle/docker-python\n",
    "# For example, here's several helpful packages to load\n",
    "\n",
    "import numpy as np # linear algebra\n",
    "import pandas as pd # data processing, CSV file I/O (e.g. pd.read_csv)\n",
    "import matplotlib.pyplot as plt\n",
    "\n",
    "# Input data files are available in the read-only \"../input/\" directory\n",
    "# For example, running this (by clicking run or pressing Shift+Enter) will list all files under the input directory\n",
    "\n",
    "import os\n",
    "for dirname, _, filenames in os.walk('/kaggle/input'):\n",
    "    for filename in filenames:\n",
    "        print(os.path.join(dirname, filename))\n",
    "\n",
    "#path = __file__[: __file__.rindex(\"\\\\\")]+\"\\\\\"\n",
    "path = os.getcwd()\n",
    "#print(path)\n",
    "# You can write up to 20GB to the current directory (/kaggle/working/) that gets preserved as output when you create a version using \"Save & Run All\" \n",
    "# You can also write temporary files to /kaggle/temp/, but they won't be saved outside of the current session"
   ]
  },
  {
   "cell_type": "code",
   "execution_count": 2,
   "id": "898a7020",
   "metadata": {
    "execution": {
     "iopub.execute_input": "2023-08-20T23:22:07.146020Z",
     "iopub.status.busy": "2023-08-20T23:22:07.145139Z",
     "iopub.status.idle": "2023-08-20T23:22:13.048222Z",
     "shell.execute_reply": "2023-08-20T23:22:13.047094Z"
    },
    "papermill": {
     "duration": 5.910784,
     "end_time": "2023-08-20T23:22:13.051236",
     "exception": false,
     "start_time": "2023-08-20T23:22:07.140452",
     "status": "completed"
    },
    "tags": []
   },
   "outputs": [],
   "source": [
    "test = pd.read_csv(f'{path}\\\\data\\\\test.csv')#.replace('\\\\','/'))\n",
    "train = pd.read_csv(f'{path}\\\\data\\\\train.csv')"
   ]
  },
  {
   "cell_type": "code",
   "execution_count": 9,
   "id": "6401ac1b",
   "metadata": {
    "execution": {
     "iopub.execute_input": "2023-08-20T23:22:13.060260Z",
     "iopub.status.busy": "2023-08-20T23:22:13.059870Z",
     "iopub.status.idle": "2023-08-20T23:22:13.069595Z",
     "shell.execute_reply": "2023-08-20T23:22:13.068369Z"
    },
    "papermill": {
     "duration": 0.017279,
     "end_time": "2023-08-20T23:22:13.072186",
     "exception": false,
     "start_time": "2023-08-20T23:22:13.054907",
     "status": "completed"
    },
    "tags": []
   },
   "outputs": [],
   "source": [
    "class Wrangler:\n",
    "    def __init__(self, train, test, prnt=True):\n",
    "        self.data = {}\n",
    "        self.data['train'] = train\n",
    "        self.data['test'] = test\n",
    "        self.data['cols'] = set(train.columns) - set(['id', 'Class'])\n",
    "        \n",
    "        if prnt:\n",
    "            print(f'Columns:')\n",
    "            for col in self.data['train'].columns:\n",
    "                print(col)\n",
    "            \n",
    "    def countna(self, data):\n",
    "        print('Missing Rows')\n",
    "        for col in self.data[data]:\n",
    "            print(f'{col} - {sum(self.data[data][col].isna())}')\n",
    "            \n",
    "    def corr(self, data, type='norm'):\n",
    "        corr = self.data[data].corr()\n",
    "        plt.matshow(corr)\n",
    "        \n",
    "        plt.xticks(range(len(corr.columns)), corr.columns, rotation=90)\n",
    "        plt.yticks(range(len(corr.columns)), corr.columns, rotation=0)\n",
    "        \n",
    "        plt.show()\n",
    "\n",
    "        \n",
    "        print(abs(pd.Series(corr['Class'])).sort_values(ascending=False))\n",
    "\n",
    "    def describe(self, data):\n",
    "        print(pd.DataFrame(self.data[data]).describe())\n",
    "\n",
    "    def prob_distr(self, data,sample=1000,steps=5):\n",
    "        interest = pd.DataFrame(self.data[data]).sample(sample)\n",
    "        print(interest.columns)\n",
    "        for col in self.data['cols']:\n",
    "            interest.hist(column=col, bins=(len(interest)//steps))\n",
    "            plt.show()\n",
    "\n",
    "    def scatterplot(self, data, sample=1000):\n",
    "        done = np.zeros(shape=(len(self.data['cols']), len(self.data['cols'])))\n",
    "        for ic1, c1 in enumerate(self.data['cols']) :\n",
    "            for ic2, c2 in enumerate(self.data['cols']):\n",
    "                if c1 != c2 and done[ic1][ic2] ==0:\n",
    "                    #self.data[data] = pd.DataFrame(self.data[data])\n",
    "                    interest = pd.DataFrame(self.data[data].loc[self.data[data]['Class']==1,[c1, c2, 'Class']])#.sample(sample)\n",
    "                    interest = pd.concat([interest, self.data[data].loc[self.data[data]['Class']==0].sample(len(interest))], axis=0)\n",
    "                    done[ic1][ic2] = 1\n",
    "                    done[ic2][ic1] = 1\n",
    "                    pd.plotting.scatter_matrix(interest[[c1,c2]], c=np.where(interest['Class']==0, 'green', 'red'), diagonal='kde')\n",
    "                    plt.show()\n",
    "\n",
    "\n",
    "\n",
    "data = Wrangler(train, test, False)"
   ]
  },
  {
   "cell_type": "code",
   "execution_count": 4,
   "id": "3837561a",
   "metadata": {
    "execution": {
     "iopub.execute_input": "2023-08-20T23:22:13.080921Z",
     "iopub.status.busy": "2023-08-20T23:22:13.080488Z",
     "iopub.status.idle": "2023-08-20T23:22:13.085519Z",
     "shell.execute_reply": "2023-08-20T23:22:13.084265Z"
    },
    "papermill": {
     "duration": 0.012175,
     "end_time": "2023-08-20T23:22:13.087865",
     "exception": false,
     "start_time": "2023-08-20T23:22:13.075690",
     "status": "completed"
    },
    "tags": []
   },
   "outputs": [],
   "source": [
    "trn = 'train'\n",
    "tst = 'test'"
   ]
  },
  {
   "cell_type": "code",
   "execution_count": null,
   "id": "45889707",
   "metadata": {},
   "outputs": [],
   "source": [
    "data.describe(trn)\n",
    "\n",
    "data.prob_distr(trn, steps=2)"
   ]
  },
  {
   "cell_type": "code",
   "execution_count": 10,
   "id": "a6d846da",
   "metadata": {},
   "outputs": [
    {
     "ename": "ValueError",
     "evalue": "Cannot take a larger sample than population when 'replace=False'",
     "output_type": "error",
     "traceback": [
      "\u001b[1;31m---------------------------------------------------------------------------\u001b[0m",
      "\u001b[1;31mValueError\u001b[0m                                Traceback (most recent call last)",
      "Cell \u001b[1;32mIn[10], line 1\u001b[0m\n\u001b[1;32m----> 1\u001b[0m data\u001b[39m.\u001b[39;49mscatterplot(trn)\n",
      "Cell \u001b[1;32mIn[9], line 47\u001b[0m, in \u001b[0;36mWrangler.scatterplot\u001b[1;34m(self, data, sample)\u001b[0m\n\u001b[0;32m     44\u001b[0m \u001b[39mif\u001b[39;00m c1 \u001b[39m!=\u001b[39m c2 \u001b[39mand\u001b[39;00m done[ic1][ic2] \u001b[39m==\u001b[39m\u001b[39m0\u001b[39m:\n\u001b[0;32m     45\u001b[0m     \u001b[39m#self.data[data] = pd.DataFrame(self.data[data])\u001b[39;00m\n\u001b[0;32m     46\u001b[0m     interest \u001b[39m=\u001b[39m pd\u001b[39m.\u001b[39mDataFrame(\u001b[39mself\u001b[39m\u001b[39m.\u001b[39mdata[data]\u001b[39m.\u001b[39mloc[\u001b[39mself\u001b[39m\u001b[39m.\u001b[39mdata[data][\u001b[39m'\u001b[39m\u001b[39mClass\u001b[39m\u001b[39m'\u001b[39m]\u001b[39m==\u001b[39m\u001b[39m0\u001b[39m,[c1, c2, \u001b[39m'\u001b[39m\u001b[39mClass\u001b[39m\u001b[39m'\u001b[39m]])\u001b[39m#.sample(sample)\u001b[39;00m\n\u001b[1;32m---> 47\u001b[0m     interest \u001b[39m=\u001b[39m pd\u001b[39m.\u001b[39mconcat([interest, \u001b[39mself\u001b[39;49m\u001b[39m.\u001b[39;49mdata[data]\u001b[39m.\u001b[39;49mloc[\u001b[39mself\u001b[39;49m\u001b[39m.\u001b[39;49mdata[data][\u001b[39m'\u001b[39;49m\u001b[39mClass\u001b[39;49m\u001b[39m'\u001b[39;49m]\u001b[39m==\u001b[39;49m\u001b[39m1\u001b[39;49m]\u001b[39m.\u001b[39;49msample(\u001b[39mlen\u001b[39;49m(interest))], axis\u001b[39m=\u001b[39m\u001b[39m0\u001b[39m)\n\u001b[0;32m     48\u001b[0m     done[ic1][ic2] \u001b[39m=\u001b[39m \u001b[39m1\u001b[39m\n\u001b[0;32m     49\u001b[0m     done[ic2][ic1] \u001b[39m=\u001b[39m \u001b[39m1\u001b[39m\n",
      "File \u001b[1;32mc:\\Python310\\lib\\site-packages\\pandas\\core\\generic.py:5773\u001b[0m, in \u001b[0;36mNDFrame.sample\u001b[1;34m(self, n, frac, replace, weights, random_state, axis, ignore_index)\u001b[0m\n\u001b[0;32m   5770\u001b[0m \u001b[39mif\u001b[39;00m weights \u001b[39mis\u001b[39;00m \u001b[39mnot\u001b[39;00m \u001b[39mNone\u001b[39;00m:\n\u001b[0;32m   5771\u001b[0m     weights \u001b[39m=\u001b[39m sample\u001b[39m.\u001b[39mpreprocess_weights(\u001b[39mself\u001b[39m, weights, axis)\n\u001b[1;32m-> 5773\u001b[0m sampled_indices \u001b[39m=\u001b[39m sample\u001b[39m.\u001b[39;49msample(obj_len, size, replace, weights, rs)\n\u001b[0;32m   5774\u001b[0m result \u001b[39m=\u001b[39m \u001b[39mself\u001b[39m\u001b[39m.\u001b[39mtake(sampled_indices, axis\u001b[39m=\u001b[39maxis)\n\u001b[0;32m   5776\u001b[0m \u001b[39mif\u001b[39;00m ignore_index:\n",
      "File \u001b[1;32mc:\\Python310\\lib\\site-packages\\pandas\\core\\sample.py:150\u001b[0m, in \u001b[0;36msample\u001b[1;34m(obj_len, size, replace, weights, random_state)\u001b[0m\n\u001b[0;32m    147\u001b[0m     \u001b[39melse\u001b[39;00m:\n\u001b[0;32m    148\u001b[0m         \u001b[39mraise\u001b[39;00m \u001b[39mValueError\u001b[39;00m(\u001b[39m\"\u001b[39m\u001b[39mInvalid weights: weights sum to zero\u001b[39m\u001b[39m\"\u001b[39m)\n\u001b[1;32m--> 150\u001b[0m \u001b[39mreturn\u001b[39;00m random_state\u001b[39m.\u001b[39;49mchoice(obj_len, size\u001b[39m=\u001b[39;49msize, replace\u001b[39m=\u001b[39;49mreplace, p\u001b[39m=\u001b[39;49mweights)\u001b[39m.\u001b[39mastype(\n\u001b[0;32m    151\u001b[0m     np\u001b[39m.\u001b[39mintp, copy\u001b[39m=\u001b[39m\u001b[39mFalse\u001b[39;00m\n\u001b[0;32m    152\u001b[0m )\n",
      "File \u001b[1;32mmtrand.pyx:965\u001b[0m, in \u001b[0;36mnumpy.random.mtrand.RandomState.choice\u001b[1;34m()\u001b[0m\n",
      "\u001b[1;31mValueError\u001b[0m: Cannot take a larger sample than population when 'replace=False'"
     ]
    }
   ],
   "source": [
    "data.scatterplot(trn)"
   ]
  }
 ],
 "metadata": {
  "kernelspec": {
   "display_name": "Python 3",
   "language": "python",
   "name": "python3"
  },
  "language_info": {
   "codemirror_mode": {
    "name": "ipython",
    "version": 3
   },
   "file_extension": ".py",
   "mimetype": "text/x-python",
   "name": "python",
   "nbconvert_exporter": "python",
   "pygments_lexer": "ipython3",
   "version": "3.10.6"
  },
  "papermill": {
   "default_parameters": {},
   "duration": 20.707408,
   "end_time": "2023-08-20T23:22:16.546367",
   "environment_variables": {},
   "exception": null,
   "input_path": "__notebook__.ipynb",
   "output_path": "__notebook__.ipynb",
   "parameters": {},
   "start_time": "2023-08-20T23:21:55.838959",
   "version": "2.4.0"
  }
 },
 "nbformat": 4,
 "nbformat_minor": 5
}
