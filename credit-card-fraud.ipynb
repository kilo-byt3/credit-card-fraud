{
 "cells": [
  {
   "cell_type": "code",
   "execution_count": 1,
   "id": "309521ba",
   "metadata": {
    "_cell_guid": "b1076dfc-b9ad-4769-8c92-a6c4dae69d19",
    "_uuid": "8f2839f25d086af736a60e9eeb907d3b93b6e0e5",
    "execution": {
     "iopub.execute_input": "2023-08-20T23:22:07.117878Z",
     "iopub.status.busy": "2023-08-20T23:22:07.117316Z",
     "iopub.status.idle": "2023-08-20T23:22:07.134351Z",
     "shell.execute_reply": "2023-08-20T23:22:07.133219Z"
    },
    "papermill": {
     "duration": 0.025404,
     "end_time": "2023-08-20T23:22:07.136803",
     "exception": false,
     "start_time": "2023-08-20T23:22:07.111399",
     "status": "completed"
    },
    "tags": []
   },
   "outputs": [
    {
     "name": "stdout",
     "output_type": "stream",
     "text": [
      "/kaggle/input/playground-series-s3e4/sample_submission.csv\n",
      "/kaggle/input/playground-series-s3e4/train.csv\n",
      "/kaggle/input/playground-series-s3e4/test.csv\n"
     ]
    }
   ],
   "source": [
    "# This Python 3 environment comes with many helpful analytics libraries installed\n",
    "# It is defined by the kaggle/python Docker image: https://github.com/kaggle/docker-python\n",
    "# For example, here's several helpful packages to load\n",
    "\n",
    "import numpy as np # linear algebra\n",
    "import pandas as pd # data processing, CSV file I/O (e.g. pd.read_csv)\n",
    "import matplotlib.pyplot as plt\n",
    "\n",
    "# Input data files are available in the read-only \"../input/\" directory\n",
    "# For example, running this (by clicking run or pressing Shift+Enter) will list all files under the input directory\n",
    "\n",
    "import os\n",
    "for dirname, _, filenames in os.walk('/kaggle/input'):\n",
    "    for filename in filenames:\n",
    "        print(os.path.join(dirname, filename))\n",
    "\n",
    "# You can write up to 20GB to the current directory (/kaggle/working/) that gets preserved as output when you create a version using \"Save & Run All\" \n",
    "# You can also write temporary files to /kaggle/temp/, but they won't be saved outside of the current session"
   ]
  },
  {
   "cell_type": "code",
   "execution_count": 2,
   "id": "898a7020",
   "metadata": {
    "execution": {
     "iopub.execute_input": "2023-08-20T23:22:07.146020Z",
     "iopub.status.busy": "2023-08-20T23:22:07.145139Z",
     "iopub.status.idle": "2023-08-20T23:22:13.048222Z",
     "shell.execute_reply": "2023-08-20T23:22:13.047094Z"
    },
    "papermill": {
     "duration": 5.910784,
     "end_time": "2023-08-20T23:22:13.051236",
     "exception": false,
     "start_time": "2023-08-20T23:22:07.140452",
     "status": "completed"
    },
    "tags": []
   },
   "outputs": [],
   "source": [
    "test = pd.read_csv('/kaggle/input/playground-series-s3e4/test.csv')\n",
    "train = pd.read_csv('/kaggle/input/playground-series-s3e4/train.csv')"
   ]
  },
  {
   "cell_type": "code",
   "execution_count": 3,
   "id": "6401ac1b",
   "metadata": {
    "execution": {
     "iopub.execute_input": "2023-08-20T23:22:13.060260Z",
     "iopub.status.busy": "2023-08-20T23:22:13.059870Z",
     "iopub.status.idle": "2023-08-20T23:22:13.069595Z",
     "shell.execute_reply": "2023-08-20T23:22:13.068369Z"
    },
    "papermill": {
     "duration": 0.017279,
     "end_time": "2023-08-20T23:22:13.072186",
     "exception": false,
     "start_time": "2023-08-20T23:22:13.054907",
     "status": "completed"
    },
    "tags": []
   },
   "outputs": [],
   "source": [
    "class Wrangler:\n",
    "    def __init__(self, train, test):\n",
    "        self.data = {}\n",
    "        self.data['train'] = train\n",
    "        self.data['test'] = test\n",
    "        \n",
    "        print(f'Columns:')\n",
    "        for col in self.data['train'].columns:\n",
    "            print(col)\n",
    "            \n",
    "    def countna(self, data):\n",
    "        print('Missing Rows')\n",
    "        for col in self.data[data]:\n",
    "            print(f'{col} - {sum(self.data[data][col].isna())}')\n",
    "            \n",
    "    def corr(self, data):\n",
    "        corr = self.data[data].corr()\n",
    "        plt.matshow(corr)\n",
    "        plt.xticks(range(len(corr.columns)), corr.columns, rotation=90)\n",
    "        plt.yticks(range(len(corr.columns)), corr.columns, rotation=0)\n",
    "        \n",
    "        plt.show()\n"
   ]
  },
  {
   "cell_type": "code",
   "execution_count": 4,
   "id": "3837561a",
   "metadata": {
    "execution": {
     "iopub.execute_input": "2023-08-20T23:22:13.080921Z",
     "iopub.status.busy": "2023-08-20T23:22:13.080488Z",
     "iopub.status.idle": "2023-08-20T23:22:13.085519Z",
     "shell.execute_reply": "2023-08-20T23:22:13.084265Z"
    },
    "papermill": {
     "duration": 0.012175,
     "end_time": "2023-08-20T23:22:13.087865",
     "exception": false,
     "start_time": "2023-08-20T23:22:13.075690",
     "status": "completed"
    },
    "tags": []
   },
   "outputs": [],
   "source": [
    "trn = 'train'\n",
    "tst = 'test'"
   ]
  },
  {
   "cell_type": "code",
   "execution_count": 5,
   "id": "1831e4f2",
   "metadata": {
    "execution": {
     "iopub.execute_input": "2023-08-20T23:22:13.097034Z",
     "iopub.status.busy": "2023-08-20T23:22:13.096270Z",
     "iopub.status.idle": "2023-08-20T23:22:13.103136Z",
     "shell.execute_reply": "2023-08-20T23:22:13.101724Z"
    },
    "papermill": {
     "duration": 0.014477,
     "end_time": "2023-08-20T23:22:13.105923",
     "exception": false,
     "start_time": "2023-08-20T23:22:13.091446",
     "status": "completed"
    },
    "tags": []
   },
   "outputs": [
    {
     "name": "stdout",
     "output_type": "stream",
     "text": [
      "Columns:\n",
      "id\n",
      "Time\n",
      "V1\n",
      "V2\n",
      "V3\n",
      "V4\n",
      "V5\n",
      "V6\n",
      "V7\n",
      "V8\n",
      "V9\n",
      "V10\n",
      "V11\n",
      "V12\n",
      "V13\n",
      "V14\n",
      "V15\n",
      "V16\n",
      "V17\n",
      "V18\n",
      "V19\n",
      "V20\n",
      "V21\n",
      "V22\n",
      "V23\n",
      "V24\n",
      "V25\n",
      "V26\n",
      "V27\n",
      "V28\n",
      "Amount\n",
      "Class\n"
     ]
    }
   ],
   "source": [
    "data = Wrangler(train, test)"
   ]
  },
  {
   "cell_type": "code",
   "execution_count": 6,
   "id": "8cb571c9",
   "metadata": {
    "execution": {
     "iopub.execute_input": "2023-08-20T23:22:13.115257Z",
     "iopub.status.busy": "2023-08-20T23:22:13.114886Z",
     "iopub.status.idle": "2023-08-20T23:22:15.605414Z",
     "shell.execute_reply": "2023-08-20T23:22:15.604080Z"
    },
    "papermill": {
     "duration": 2.499215,
     "end_time": "2023-08-20T23:22:15.608913",
     "exception": false,
     "start_time": "2023-08-20T23:22:13.109698",
     "status": "completed"
    },
    "tags": []
   },
   "outputs": [
    {
     "name": "stdout",
     "output_type": "stream",
     "text": [
      "Missing Rows\n",
      "id - 0\n",
      "Time - 0\n",
      "V1 - 0\n",
      "V2 - 0\n",
      "V3 - 0\n",
      "V4 - 0\n",
      "V5 - 0\n",
      "V6 - 0\n",
      "V7 - 0\n",
      "V8 - 0\n",
      "V9 - 0\n",
      "V10 - 0\n",
      "V11 - 0\n",
      "V12 - 0\n",
      "V13 - 0\n",
      "V14 - 0\n",
      "V15 - 0\n",
      "V16 - 0\n",
      "V17 - 0\n",
      "V18 - 0\n",
      "V19 - 0\n",
      "V20 - 0\n",
      "V21 - 0\n",
      "V22 - 0\n",
      "V23 - 0\n",
      "V24 - 0\n",
      "V25 - 0\n",
      "V26 - 0\n",
      "V27 - 0\n",
      "V28 - 0\n",
      "Amount - 0\n",
      "Class - 0\n"
     ]
    },
    {
     "data": {
      "image/png": "[encoded data removed]",
      "text/plain": [
       "<Figure size 480x480 with 1 Axes>"
      ]
     },
     "metadata": {},
     "output_type": "display_data"
    }
   ],
   "source": [
    "data.countna(trn)\n",
    "\n",
    "data.corr(trn)"
   ]
  },
  {
   "cell_type": "code",
   "execution_count": null,
   "id": "a5dad95e",
   "metadata": {
    "papermill": {
     "duration": 0.004592,
     "end_time": "2023-08-20T23:22:15.618454",
     "exception": false,
     "start_time": "2023-08-20T23:22:15.613862",
     "status": "completed"
    },
    "tags": []
   },
   "outputs": [],
   "source": []
  }
 ],
 "metadata": {
  "kernelspec": {
   "display_name": "Python 3",
   "language": "python",
   "name": "python3"
  },
  "language_info": {
   "codemirror_mode": {
    "name": "ipython",
    "version": 3
   },
   "file_extension": ".py",
   "mimetype": "text/x-python",
   "name": "python",
   "nbconvert_exporter": "python",
   "pygments_lexer": "ipython3",
   "version": "3.10.12"
  },
  "papermill": {
   "default_parameters": {},
   "duration": 20.707408,
   "end_time": "2023-08-20T23:22:16.546367",
   "environment_variables": {},
   "exception": null,
   "input_path": "__notebook__.ipynb",
   "output_path": "__notebook__.ipynb",
   "parameters": {},
   "start_time": "2023-08-20T23:21:55.838959",
   "version": "2.4.0"
  }
 },
 "nbformat": 4,
 "nbformat_minor": 5
}
