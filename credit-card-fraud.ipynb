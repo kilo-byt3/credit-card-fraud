{
 "cells": [
  {
   "cell_type": "code",
   "execution_count": 5,
   "id": "309521ba",
   "metadata": {
    "_cell_guid": "b1076dfc-b9ad-4769-8c92-a6c4dae69d19",
    "_uuid": "8f2839f25d086af736a60e9eeb907d3b93b6e0e5",
    "execution": {
     "iopub.execute_input": "2023-08-20T23:22:07.117878Z",
     "iopub.status.busy": "2023-08-20T23:22:07.117316Z",
     "iopub.status.idle": "2023-08-20T23:22:07.134351Z",
     "shell.execute_reply": "2023-08-20T23:22:07.133219Z"
    },
    "papermill": {
     "duration": 0.025404,
     "end_time": "2023-08-20T23:22:07.136803",
     "exception": false,
     "start_time": "2023-08-20T23:22:07.111399",
     "status": "completed"
    },
    "tags": []
   },
   "outputs": [
    {
     "name": "stdout",
     "output_type": "stream",
     "text": [
      "c:\\Users\\karth\\Desktop\\Projects\\credit-card-fraud\n"
     ]
    }
   ],
   "source": [
    "# This Python 3 environment comes with many helpful analytics libraries installed\n",
    "# It is defined by the kaggle/python Docker image: https://github.com/kaggle/docker-python\n",
    "# For example, here's several helpful packages to load\n",
    "\n",
    "import numpy as np # linear algebra\n",
    "import pandas as pd # data processing, CSV file I/O (e.g. pd.read_csv)\n",
    "import matplotlib.pyplot as plt\n",
    "\n",
    "# Input data files are available in the read-only \"../input/\" directory\n",
    "# For example, running this (by clicking run or pressing Shift+Enter) will list all files under the input directory\n",
    "\n",
    "import os\n",
    "for dirname, _, filenames in os.walk('/kaggle/input'):\n",
    "    for filename in filenames:\n",
    "        print(os.path.join(dirname, filename))\n",
    "\n",
    "#path = __file__[: __file__.rindex(\"\\\\\")]+\"\\\\\"\n",
    "path = os.getcwd()\n",
    "print(path)\n",
    "# You can write up to 20GB to the current directory (/kaggle/working/) that gets preserved as output when you create a version using \"Save & Run All\" \n",
    "# You can also write temporary files to /kaggle/temp/, but they won't be saved outside of the current session"
   ]
  },
  {
   "cell_type": "code",
   "execution_count": 6,
   "id": "898a7020",
   "metadata": {
    "execution": {
     "iopub.execute_input": "2023-08-20T23:22:07.146020Z",
     "iopub.status.busy": "2023-08-20T23:22:07.145139Z",
     "iopub.status.idle": "2023-08-20T23:22:13.048222Z",
     "shell.execute_reply": "2023-08-20T23:22:13.047094Z"
    },
    "papermill": {
     "duration": 5.910784,
     "end_time": "2023-08-20T23:22:13.051236",
     "exception": false,
     "start_time": "2023-08-20T23:22:07.140452",
     "status": "completed"
    },
    "tags": []
   },
   "outputs": [],
   "source": [
    "test = pd.read_csv(f'{path}\\\\data\\\\test.csv')#.replace('\\\\','/'))\n",
    "train = pd.read_csv(f'{path}\\\\data\\\\train.csv')"
   ]
  },
  {
   "cell_type": "code",
   "execution_count": 11,
   "id": "6401ac1b",
   "metadata": {
    "execution": {
     "iopub.execute_input": "2023-08-20T23:22:13.060260Z",
     "iopub.status.busy": "2023-08-20T23:22:13.059870Z",
     "iopub.status.idle": "2023-08-20T23:22:13.069595Z",
     "shell.execute_reply": "2023-08-20T23:22:13.068369Z"
    },
    "papermill": {
     "duration": 0.017279,
     "end_time": "2023-08-20T23:22:13.072186",
     "exception": false,
     "start_time": "2023-08-20T23:22:13.054907",
     "status": "completed"
    },
    "tags": []
   },
   "outputs": [],
   "source": [
    "class Wrangler:\n",
    "    def __init__(self, train, test, prnt=True):\n",
    "        self.data = {}\n",
    "        self.data['train'] = train\n",
    "        self.data['test'] = test\n",
    "        self.data['cols'] = set(train.columns) - set(['id'])\n",
    "        \n",
    "        if prnt:\n",
    "            print(f'Columns:')\n",
    "            for col in self.data['train'].columns:\n",
    "                print(col)\n",
    "            \n",
    "    def countna(self, data):\n",
    "        print('Missing Rows')\n",
    "        for col in self.data[data]:\n",
    "            print(f'{col} - {sum(self.data[data][col].isna())}')\n",
    "            \n",
    "    def corr(self, data):\n",
    "        corr = self.data[data].corr()\n",
    "        plt.matshow(corr)\n",
    "        plt.xticks(range(len(corr.columns)), corr.columns, rotation=90)\n",
    "        plt.yticks(range(len(corr.columns)), corr.columns, rotation=0)\n",
    "        \n",
    "        plt.show()\n",
    "\n",
    "        \n",
    "        print(abs(pd.Series(corr['Class'])).sort_values(ascending=False))\n",
    "\n",
    "    def describe(self, data):\n",
    "        print(pd.DataFrame(self.data[data]).describe())\n",
    "\n",
    "    def prob_distr(self, data,steps=5):\n",
    "        interest = pd.DataFrame(self.data[data])\n",
    "        for col in self.data['cols']:\n",
    "            interest.hist(column=col, bins=(len(interest)//steps))\n",
    "            plt.show()"
   ]
  },
  {
   "cell_type": "code",
   "execution_count": 12,
   "id": "3837561a",
   "metadata": {
    "execution": {
     "iopub.execute_input": "2023-08-20T23:22:13.080921Z",
     "iopub.status.busy": "2023-08-20T23:22:13.080488Z",
     "iopub.status.idle": "2023-08-20T23:22:13.085519Z",
     "shell.execute_reply": "2023-08-20T23:22:13.084265Z"
    },
    "papermill": {
     "duration": 0.012175,
     "end_time": "2023-08-20T23:22:13.087865",
     "exception": false,
     "start_time": "2023-08-20T23:22:13.075690",
     "status": "completed"
    },
    "tags": []
   },
   "outputs": [],
   "source": [
    "trn = 'train'\n",
    "tst = 'test'"
   ]
  },
  {
   "cell_type": "code",
   "execution_count": 13,
   "id": "1831e4f2",
   "metadata": {
    "execution": {
     "iopub.execute_input": "2023-08-20T23:22:13.097034Z",
     "iopub.status.busy": "2023-08-20T23:22:13.096270Z",
     "iopub.status.idle": "2023-08-20T23:22:13.103136Z",
     "shell.execute_reply": "2023-08-20T23:22:13.101724Z"
    },
    "papermill": {
     "duration": 0.014477,
     "end_time": "2023-08-20T23:22:13.105923",
     "exception": false,
     "start_time": "2023-08-20T23:22:13.091446",
     "status": "completed"
    },
    "tags": []
   },
   "outputs": [],
   "source": [
    "data = Wrangler(train, test, False)"
   ]
  },
  {
   "cell_type": "code",
   "execution_count": 14,
   "id": "8cb571c9",
   "metadata": {
    "execution": {
     "iopub.execute_input": "2023-08-20T23:22:13.115257Z",
     "iopub.status.busy": "2023-08-20T23:22:13.114886Z",
     "iopub.status.idle": "2023-08-20T23:22:15.605414Z",
     "shell.execute_reply": "2023-08-20T23:22:15.604080Z"
    },
    "papermill": {
     "duration": 2.499215,
     "end_time": "2023-08-20T23:22:15.608913",
     "exception": false,
     "start_time": "2023-08-20T23:22:13.109698",
     "status": "completed"
    },
    "tags": []
   },
   "outputs": [
    {
     "name": "stdout",
     "output_type": "stream",
     "text": [
      "                  id           Time             V1             V2  \\\n",
      "count  219129.000000  219129.000000  219129.000000  219129.000000   \n",
      "mean   109564.000000   62377.415376       0.096008       0.048345   \n",
      "std     63257.237906   25620.348569       1.395425       1.159805   \n",
      "min         0.000000       0.000000     -29.807725     -44.247914   \n",
      "25%     54782.000000   47933.000000      -0.846135      -0.573728   \n",
      "50%    109564.000000   63189.000000       0.385913       0.046937   \n",
      "75%    164346.000000   77519.000000       1.190661       0.814145   \n",
      "max    219128.000000  120580.000000       2.430494      16.068473   \n",
      "\n",
      "                  V3             V4             V5             V6  \\\n",
      "count  219129.000000  219129.000000  219129.000000  219129.000000   \n",
      "mean        0.592102       0.069273      -0.161555       0.133688   \n",
      "std         1.132884       1.253125       1.069530       1.202411   \n",
      "min       -19.722872      -5.263650     -37.591259     -25.659750   \n",
      "25%        -0.027154      -0.769256      -0.847346      -0.631835   \n",
      "50%         0.735895       0.064856      -0.229929      -0.087778   \n",
      "75%         1.306110       0.919353       0.356856       0.482388   \n",
      "max         6.145578      12.547997      34.581260      16.233967   \n",
      "\n",
      "                  V7             V8  ...            V21            V22  \\\n",
      "count  219129.000000  219129.000000  ...  219129.000000  219129.000000   \n",
      "mean       -0.128224       0.149534  ...      -0.031064      -0.050852   \n",
      "std         0.817207       0.716212  ...       0.422777       0.597812   \n",
      "min       -31.179799     -28.903442  ...     -14.689621      -8.748979   \n",
      "25%        -0.646730      -0.095948  ...      -0.190418      -0.473099   \n",
      "50%        -0.098970       0.111219  ...      -0.042858      -0.032856   \n",
      "75%         0.385567       0.390976  ...       0.109187       0.354910   \n",
      "max        39.824099      18.270586  ...      22.062945       6.163541   \n",
      "\n",
      "                 V23            V24            V25            V26  \\\n",
      "count  219129.000000  219129.000000  219129.000000  219129.000000   \n",
      "mean       -0.050531      -0.002992       0.124005       0.009881   \n",
      "std         0.318175       0.593100       0.406741       0.473867   \n",
      "min       -11.958588      -2.836285      -3.958591      -1.858672   \n",
      "25%        -0.174478      -0.332540      -0.126080      -0.318330   \n",
      "50%        -0.063307       0.038708       0.145934      -0.086388   \n",
      "75%         0.060221       0.394566       0.402926       0.253869   \n",
      "max        12.734391       4.572739       3.111624       3.402344   \n",
      "\n",
      "                 V27            V28         Amount          Class  \n",
      "count  219129.000000  219129.000000  219129.000000  219129.000000  \n",
      "mean        0.014034       0.017313      66.359803       0.002140  \n",
      "std         0.233355       0.164859     150.795017       0.046214  \n",
      "min        -9.234767      -4.551680       0.000000       0.000000  \n",
      "25%        -0.050983      -0.009512       5.990000       0.000000  \n",
      "50%         0.015905       0.022163      21.900000       0.000000  \n",
      "75%         0.076814       0.066987      68.930000       0.000000  \n",
      "max        13.123618      23.263746    7475.000000       1.000000  \n",
      "\n",
      "[8 rows x 32 columns]\n"
     ]
    }
   ],
   "source": [
    "# data.countna(trn)\n",
    "\n",
    "# data.corr(trn)\n",
    "\n",
    "data.describe(trn)\n",
    "\n",
    "data.prob_distr(trn, steps=2)"
   ]
  },
  {
   "cell_type": "code",
   "execution_count": null,
   "id": "a5dad95e",
   "metadata": {
    "papermill": {
     "duration": 0.004592,
     "end_time": "2023-08-20T23:22:15.618454",
     "exception": false,
     "start_time": "2023-08-20T23:22:15.613862",
     "status": "completed"
    },
    "tags": []
   },
   "outputs": [],
   "source": []
  }
 ],
 "metadata": {
  "kernelspec": {
   "display_name": "Python 3",
   "language": "python",
   "name": "python3"
  },
  "language_info": {
   "codemirror_mode": {
    "name": "ipython",
    "version": 3
   },
   "file_extension": ".py",
   "mimetype": "text/x-python",
   "name": "python",
   "nbconvert_exporter": "python",
   "pygments_lexer": "ipython3",
   "version": "3.10.6"
  },
  "papermill": {
   "default_parameters": {},
   "duration": 20.707408,
   "end_time": "2023-08-20T23:22:16.546367",
   "environment_variables": {},
   "exception": null,
   "input_path": "__notebook__.ipynb",
   "output_path": "__notebook__.ipynb",
   "parameters": {},
   "start_time": "2023-08-20T23:21:55.838959",
   "version": "2.4.0"
  }
 },
 "nbformat": 4,
 "nbformat_minor": 5
}
